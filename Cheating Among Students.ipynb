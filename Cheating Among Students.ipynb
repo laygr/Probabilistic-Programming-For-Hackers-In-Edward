{
 "cells": [
  {
   "cell_type": "code",
   "execution_count": 3,
   "metadata": {},
   "outputs": [
    {
     "name": "stderr",
     "output_type": "stream",
     "text": [
      "/Users/laygr/anaconda3/lib/python3.6/site-packages/h5py/__init__.py:36: FutureWarning: Conversion of the second argument of issubdtype from `float` to `np.floating` is deprecated. In future, it will be treated as `np.float64 == np.dtype(float).type`.\n",
      "  from ._conv import register_converters as _register_converters\n"
     ]
    },
    {
     "name": "stdout",
     "output_type": "stream",
     "text": [
      "WARNING:tensorflow:From /Users/laygr/anaconda3/lib/python3.6/site-packages/tensorflow/contrib/learn/python/learn/datasets/base.py:198: retry (from tensorflow.contrib.learn.python.learn.datasets.base) is deprecated and will be removed in a future version.\n",
      "Instructions for updating:\n",
      "Use the retry module or similar alternatives.\n"
     ]
    }
   ],
   "source": [
    "%matplotlib inline\n",
    "from __future__ import absolute_import\n",
    "from __future__ import division\n",
    "from __future__ import print_function\n",
    "\n",
    "from IPython.core.pylabtools import figsize\n",
    "\n",
    "import edward as ed\n",
    "import matplotlib.pyplot as plt\n",
    "import numpy as np\n",
    "import tensorflow as tf\n",
    "\n",
    "from edward.models import Uniform, Bernoulli, Empirical, Normal\n",
    "\n",
    "plt.style.use('ggplot')"
   ]
  },
  {
   "cell_type": "code",
   "execution_count": 4,
   "metadata": {},
   "outputs": [],
   "source": [
    "tf.reset_default_graph()\n",
    "_ = tf.InteractiveSession()"
   ]
  },
  {
   "cell_type": "code",
   "execution_count": 6,
   "metadata": {},
   "outputs": [],
   "source": [
    "N = 100\n",
    "X = 35.0\n",
    "\n",
    "p = Normal(loc=0.7, scale = 0.5, name = \"freq_cheating\")\n",
    "probs = tf.ones(N) * p\n",
    "true_answers = Bernoulli(probs = tf.ones(N) * p, name = \"truths\")\n",
    "\n",
    "first_coin_flips = Bernoulli(probs = tf.ones(100) * 0.5, name = \"first_flips\")\n",
    "second_coin_flips = Bernoulli(probs = tf.ones(100) * 0.5, name = \"second_flips\")\n",
    "\n",
    "val = first_coin_flips*true_answers + (1 - first_coin_flips)*second_coin_flips\n",
    "\n",
    "observed_proportion = tf.cast(tf.reduce_sum(val), tf.float32) / N\n",
    "\n",
    "xx = Bernoulli(probs = tf.ones(N) * observed_proportion, name = \"obs\")\n",
    "observations = tf.cast(tf.reduce_sum(val), tf.float32)\n",
    "#observations = tf.reduce_sum(xx)\n",
    "#observations = observed_proportion * N\n",
    "#observations = Binomial(total_count=tf.constant(N), probs=observed_proportion)"
   ]
  },
  {
   "cell_type": "code",
   "execution_count": 7,
   "metadata": {},
   "outputs": [],
   "source": [
    "T = 10000  # number of MC samples\n",
    "\n",
    "qpi = tf.ones((T), dtype=tf.float32) * 0.1\n",
    "\n",
    "qp  = Empirical(tf.get_variable(\"qp/params\", initializer=qpi))\n"
   ]
  },
  {
   "cell_type": "code",
   "execution_count": 8,
   "metadata": {},
   "outputs": [
    {
     "name": "stdout",
     "output_type": "stream",
     "text": [
      "10000/10000 [100%] ██████████████████████████████ Elapsed: 6s | Acceptance Rate: 0.984\n"
     ]
    }
   ],
   "source": [
    "inference = ed.HMC({p:qp}, data={observations: tf.constant(X)})\n",
    "inference.run()"
   ]
  },
  {
   "cell_type": "code",
   "execution_count": 9,
   "metadata": {},
   "outputs": [],
   "source": [
    "qp_samples = qp.sample(1000).eval()"
   ]
  },
  {
   "cell_type": "code",
   "execution_count": 10,
   "metadata": {},
   "outputs": [
    {
     "data": {
      "text/plain": [
       "0.6759319"
      ]
     },
     "execution_count": 10,
     "metadata": {},
     "output_type": "execute_result"
    }
   ],
   "source": [
    "qp_samples.mean()"
   ]
  },
  {
   "cell_type": "code",
   "execution_count": 11,
   "metadata": {},
   "outputs": [
    {
     "data": {
      "text/plain": [
       "Text(0.5,0,'p value')"
      ]
     },
     "execution_count": 11,
     "metadata": {},
     "output_type": "execute_result"
    },
    {
     "data": {
      "image/png": "[encoded data removed]",
      "text/plain": [
       "<matplotlib.figure.Figure at 0x1c2b327da0>"
      ]
     },
     "metadata": {},
     "output_type": "display_data"
    }
   ],
   "source": [
    "figsize(12.5, 10)\n",
    "\n",
    "#histogram of the samples:\n",
    "\n",
    "ax = plt.subplot(311)\n",
    "ax.set_autoscaley_on(False)\n",
    "\n",
    "plt.hist(qp_samples, histtype='stepfilled', bins=35, alpha=0.85,\n",
    "         label=\"posterior of p\", color=\"#A60628\", normed=True)\n",
    "plt.legend(loc=\"upper left\")\n",
    "plt.title(\"Posterior distribution of p\")\n",
    "#plt.xlim([15, 30])\n",
    "plt.xlabel(\"p value\")"
   ]
  }
 ],
 "metadata": {
  "kernelspec": {
   "display_name": "Python 3",
   "language": "python",
   "name": "python3"
  },
  "language_info": {
   "codemirror_mode": {
    "name": "ipython",
    "version": 3
   },
   "file_extension": ".py",
   "mimetype": "text/x-python",
   "name": "python",
   "nbconvert_exporter": "python",
   "pygments_lexer": "ipython3",
   "version": "3.6.4"
  }
 },
 "nbformat": 4,
 "nbformat_minor": 2
}
